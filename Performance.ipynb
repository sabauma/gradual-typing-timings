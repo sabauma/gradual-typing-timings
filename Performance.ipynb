{
 "cells": [
  {
   "cell_type": "code",
   "execution_count": 8,
   "metadata": {
    "collapsed": true,
    "slideshow": {
     "slide_type": "skip"
    }
   },
   "outputs": [],
   "source": [
    "%matplotlib inline"
   ]
  },
  {
   "cell_type": "code",
   "execution_count": 9,
   "metadata": {
    "collapsed": false,
    "slideshow": {
     "slide_type": "skip"
    }
   },
   "outputs": [],
   "source": [
    "from pylab import *\n",
    "import pylab\n",
    "import matplotlib as mpl\n",
    "import numpy\n",
    "import lnm\n",
    "from graph import Graph\n",
    "import ipywidgets as widgets\n",
    "from IPython.display import display, HTML\n",
    "mpl.rcParams['savefig.dpi'] = 150\n",
    "OPTIONS = {'FSM (HEAD)': 'results_fsm_head.txt',\n",
    "           'KCFA (6.2.1)': 'results_kcfa_6_2_1.txt',\n",
    "           'KCFA (HEAD)': 'results_kcfa_head.txt',\n",
    "           'Morse Code (HEAD)': 'results_morse-code_head.txt',\n",
    "           'Snake (HEAD)': 'results_snake_head.txt',\n",
    "           'Snake (6.2.1)': 'results_snake_6_2_1.txt',\n",
    "           'Tetris (6.2.1)': 'results_tetris_6_2_1.txt',\n",
    "           'Tetris (HEAD)': 'results_tetris_head.txt',\n",
    "           'Tetris (HEAD+UNROLL)': 'results_tetris_head_unroll.txt',\n",
    "           'Sieve (6.2.1)': 'results_sieve_6_2_1.txt',\n",
    "           'Sieve (HEAD)': 'results_sieve_head.txt',\n",
    "           'Suffix Tree (6.2.1)': 'results_suffixtree_6_2_1.txt',\n",
    "           'Suffix Tree (HEAD)': 'results_suffixtree_head.txt',\n",
    "           'Synth (HEAD)':'results_synth_head.txt',\n",
    "           'Synth (6.2.1)': 'results_synth_6_2_1.txt'}\n",
    "s = widgets.Dropdown(options=OPTIONS)\n",
    "all_data_files = ['results_fsm_head.txt',\n",
    "                  'results_morse-code_head.txt',\n",
    "                  'results_snake_head.txt',\n",
    "                  'results_tetris_head.txt',\n",
    "                  'results_sieve_head.txt',\n",
    "                  'results_kcfa_head.txt',\n",
    "                  'results_suffixtree_head.txt',\n",
    "                  'results_synth_head.txt']\n",
    "def strip_name(name):\n",
    "    return name.rpartition(\"_\")[0].partition(\"_\")[2]"
   ]
  },
  {
   "cell_type": "code",
   "execution_count": 42,
   "metadata": {
    "collapsed": false,
    "slideshow": {
     "slide_type": "-"
    }
   },
   "outputs": [],
   "source": [
    "display(s)"
   ]
  },
  {
   "cell_type": "code",
   "execution_count": 43,
   "metadata": {
    "collapsed": false
   },
   "outputs": [
    {
     "data": {
      "text/html": [
       "<h1>Benchmark: 'tetris_head'</h1>"
      ],
      "text/plain": [
       "<IPython.core.display.HTML object>"
      ]
     },
     "execution_count": 43,
     "metadata": {},
     "output_type": "execute_result"
    }
   ],
   "source": [
    "benchmark = strip_name(s.value)\n",
    "HTML(\"<h1>Benchmark: '\" + benchmark + \"'</h1>\")"
   ]
  },
  {
   "cell_type": "markdown",
   "metadata": {},
   "source": [
    "# Select Benchmark:"
   ]
  },
  {
   "cell_type": "code",
   "execution_count": 44,
   "metadata": {
    "collapsed": false
   },
   "outputs": [
    {
     "ename": "ValueError",
     "evalue": "invalid literal for long() with base 10: 't'",
     "output_type": "error",
     "traceback": [
      "\u001b[1;31m---------------------------------------------------------------------------\u001b[0m",
      "\u001b[1;31mValueError\u001b[0m                                Traceback (most recent call last)",
      "\u001b[1;32m<ipython-input-44-5b841628a7ac>\u001b[0m in \u001b[0;36m<module>\u001b[1;34m()\u001b[0m\n\u001b[1;32m----> 1\u001b[1;33m \u001b[0mgraph\u001b[0m \u001b[1;33m=\u001b[0m \u001b[0mlnm\u001b[0m\u001b[1;33m.\u001b[0m\u001b[0mread_data\u001b[0m\u001b[1;33m(\u001b[0m\u001b[0ms\u001b[0m\u001b[1;33m.\u001b[0m\u001b[0mvalue\u001b[0m\u001b[1;33m)\u001b[0m\u001b[1;33m\u001b[0m\u001b[0m\n\u001b[0m\u001b[0;32m      2\u001b[0m \u001b[0mvariations\u001b[0m\u001b[1;33m,\u001b[0m \u001b[0mdata\u001b[0m \u001b[1;33m=\u001b[0m \u001b[0mgraph\u001b[0m\u001b[1;33m.\u001b[0m\u001b[0mungraph\u001b[0m\u001b[1;33m(\u001b[0m\u001b[1;33m)\u001b[0m\u001b[1;33m\u001b[0m\u001b[0m\n\u001b[0;32m      3\u001b[0m \u001b[0mhidden_untyped\u001b[0m \u001b[1;33m=\u001b[0m \u001b[0mdata\u001b[0m\u001b[1;33m[\u001b[0m\u001b[1;36m0\u001b[0m\u001b[1;33m,\u001b[0m\u001b[1;36m2\u001b[0m\u001b[1;33m]\u001b[0m\u001b[1;33m\u001b[0m\u001b[0m\n\u001b[0;32m      4\u001b[0m \u001b[0mpycket_untyped\u001b[0m \u001b[1;33m=\u001b[0m \u001b[0mdata\u001b[0m\u001b[1;33m[\u001b[0m\u001b[1;36m0\u001b[0m\u001b[1;33m,\u001b[0m\u001b[1;36m1\u001b[0m\u001b[1;33m]\u001b[0m\u001b[1;33m\u001b[0m\u001b[0m\n\u001b[0;32m      5\u001b[0m \u001b[0mracket_untyped\u001b[0m \u001b[1;33m=\u001b[0m \u001b[0mdata\u001b[0m\u001b[1;33m[\u001b[0m\u001b[1;36m0\u001b[0m\u001b[1;33m,\u001b[0m\u001b[1;36m0\u001b[0m\u001b[1;33m]\u001b[0m\u001b[1;33m\u001b[0m\u001b[0m\n",
      "\u001b[1;32m/home/spenser/src/gradual-typing-timings/lnm.pyc\u001b[0m in \u001b[0;36mread_data\u001b[1;34m(fname)\u001b[0m\n\u001b[0;32m     51\u001b[0m     \u001b[0mtimes\u001b[0m \u001b[1;33m=\u001b[0m \u001b[0mnp\u001b[0m\u001b[1;33m.\u001b[0m\u001b[0mgenfromtxt\u001b[0m\u001b[1;33m(\u001b[0m\u001b[0mfname\u001b[0m\u001b[1;33m,\u001b[0m \u001b[0musecols\u001b[0m\u001b[1;33m=\u001b[0m\u001b[1;33m(\u001b[0m\u001b[1;36m1\u001b[0m\u001b[1;33m,\u001b[0m\u001b[1;36m2\u001b[0m\u001b[1;33m,\u001b[0m\u001b[1;36m3\u001b[0m\u001b[1;33m)\u001b[0m\u001b[1;33m,\u001b[0m \u001b[0mdtype\u001b[0m\u001b[1;33m=\u001b[0m\u001b[1;34m'd'\u001b[0m\u001b[1;33m)\u001b[0m\u001b[1;33m\u001b[0m\u001b[0m\n\u001b[0;32m     52\u001b[0m     \u001b[0mkeys\u001b[0m \u001b[1;33m=\u001b[0m \u001b[0msanitize\u001b[0m\u001b[1;33m(\u001b[0m\u001b[0mvariations\u001b[0m\u001b[1;33m)\u001b[0m\u001b[1;33m\u001b[0m\u001b[0m\n\u001b[1;32m---> 53\u001b[1;33m     \u001b[1;32mreturn\u001b[0m \u001b[0mGraph\u001b[0m\u001b[1;33m.\u001b[0m\u001b[0mfromkeyvals\u001b[0m\u001b[1;33m(\u001b[0m\u001b[0mkeys\u001b[0m\u001b[1;33m,\u001b[0m \u001b[0mtimes\u001b[0m\u001b[1;33m,\u001b[0m \u001b[0madjacent_variations\u001b[0m\u001b[1;33m)\u001b[0m\u001b[1;33m\u001b[0m\u001b[0m\n\u001b[0m\u001b[0;32m     54\u001b[0m \u001b[1;33m\u001b[0m\u001b[0m\n\u001b[0;32m     55\u001b[0m \u001b[1;32mif\u001b[0m \u001b[0m__name__\u001b[0m \u001b[1;33m==\u001b[0m \u001b[1;34m'__main__'\u001b[0m\u001b[1;33m:\u001b[0m\u001b[1;33m\u001b[0m\u001b[0m\n",
      "\u001b[1;32m/home/spenser/src/gradual-typing-timings/graph.pyc\u001b[0m in \u001b[0;36mfromkeyvals\u001b[1;34m(keys, vals, adjacent)\u001b[0m\n\u001b[0;32m     78\u001b[0m     \u001b[1;32mdef\u001b[0m \u001b[0mfromkeyvals\u001b[0m\u001b[1;33m(\u001b[0m\u001b[0mkeys\u001b[0m\u001b[1;33m,\u001b[0m \u001b[0mvals\u001b[0m\u001b[1;33m,\u001b[0m \u001b[0madjacent\u001b[0m\u001b[1;33m)\u001b[0m\u001b[1;33m:\u001b[0m\u001b[1;33m\u001b[0m\u001b[0m\n\u001b[0;32m     79\u001b[0m         \u001b[1;32mfrom\u001b[0m \u001b[0mitertools\u001b[0m \u001b[1;32mimport\u001b[0m \u001b[0mizip\u001b[0m\u001b[1;33m\u001b[0m\u001b[0m\n\u001b[1;32m---> 80\u001b[1;33m         \u001b[1;32mreturn\u001b[0m \u001b[0mGraph\u001b[0m\u001b[1;33m(\u001b[0m\u001b[0mizip\u001b[0m\u001b[1;33m(\u001b[0m\u001b[0mkeys\u001b[0m\u001b[1;33m,\u001b[0m \u001b[0mvals\u001b[0m\u001b[1;33m)\u001b[0m\u001b[1;33m,\u001b[0m \u001b[0madjacent\u001b[0m\u001b[1;33m)\u001b[0m\u001b[1;33m\u001b[0m\u001b[0m\n\u001b[0m\u001b[0;32m     81\u001b[0m \u001b[1;33m\u001b[0m\u001b[0m\n\u001b[0;32m     82\u001b[0m     \u001b[1;33m@\u001b[0m\u001b[0mstaticmethod\u001b[0m\u001b[1;33m\u001b[0m\u001b[0m\n",
      "\u001b[1;32m/home/spenser/src/gradual-typing-timings/graph.pyc\u001b[0m in \u001b[0;36m__init__\u001b[1;34m(self, keyvals, adjacent)\u001b[0m\n\u001b[0;32m     39\u001b[0m             \u001b[0mnode\u001b[0m \u001b[1;33m=\u001b[0m \u001b[0mself\u001b[0m\u001b[1;33m.\u001b[0m\u001b[0mget_cached_node\u001b[0m\u001b[1;33m(\u001b[0m\u001b[0mk\u001b[0m\u001b[1;33m)\u001b[0m\u001b[1;33m\u001b[0m\u001b[0m\n\u001b[0;32m     40\u001b[0m             \u001b[0mnode\u001b[0m\u001b[1;33m.\u001b[0m\u001b[0mpayload\u001b[0m \u001b[1;33m=\u001b[0m \u001b[0mv\u001b[0m\u001b[1;33m\u001b[0m\u001b[0m\n\u001b[1;32m---> 41\u001b[1;33m             \u001b[0mnode\u001b[0m\u001b[1;33m.\u001b[0m\u001b[0madjacent\u001b[0m \u001b[1;33m=\u001b[0m \u001b[0mmap\u001b[0m\u001b[1;33m(\u001b[0m\u001b[0mself\u001b[0m\u001b[1;33m.\u001b[0m\u001b[0mget_cached_node\u001b[0m\u001b[1;33m,\u001b[0m \u001b[0madjacent\u001b[0m\u001b[1;33m(\u001b[0m\u001b[0mk\u001b[0m\u001b[1;33m)\u001b[0m\u001b[1;33m)\u001b[0m\u001b[1;33m\u001b[0m\u001b[0m\n\u001b[0m\u001b[0;32m     42\u001b[0m \u001b[1;33m\u001b[0m\u001b[0m\n\u001b[0;32m     43\u001b[0m     \u001b[1;32mdef\u001b[0m \u001b[0mget_cached_node\u001b[0m\u001b[1;33m(\u001b[0m\u001b[0mself\u001b[0m\u001b[1;33m,\u001b[0m \u001b[0mnodeid\u001b[0m\u001b[1;33m)\u001b[0m\u001b[1;33m:\u001b[0m\u001b[1;33m\u001b[0m\u001b[0m\n",
      "\u001b[1;32m/home/spenser/src/gradual-typing-timings/lnm.pyc\u001b[0m in \u001b[0;36mwrapper\u001b[1;34m(*args)\u001b[0m\n\u001b[0;32m      9\u001b[0m         \u001b[1;32mif\u001b[0m \u001b[0mlup\u001b[0m \u001b[1;32mis\u001b[0m \u001b[1;32mnot\u001b[0m \u001b[0mNone\u001b[0m\u001b[1;33m:\u001b[0m\u001b[1;33m\u001b[0m\u001b[0m\n\u001b[0;32m     10\u001b[0m             \u001b[1;32mreturn\u001b[0m \u001b[0mlup\u001b[0m\u001b[1;33m\u001b[0m\u001b[0m\n\u001b[1;32m---> 11\u001b[1;33m         \u001b[0mresult\u001b[0m \u001b[1;33m=\u001b[0m \u001b[0mfunc\u001b[0m\u001b[1;33m(\u001b[0m\u001b[1;33m*\u001b[0m\u001b[0margs\u001b[0m\u001b[1;33m)\u001b[0m\u001b[1;33m\u001b[0m\u001b[0m\n\u001b[0m\u001b[0;32m     12\u001b[0m         \u001b[0mcache\u001b[0m\u001b[1;33m[\u001b[0m\u001b[0margs\u001b[0m\u001b[1;33m]\u001b[0m \u001b[1;33m=\u001b[0m \u001b[0mresult\u001b[0m\u001b[1;33m\u001b[0m\u001b[0m\n\u001b[0;32m     13\u001b[0m         \u001b[1;32mreturn\u001b[0m \u001b[0mresult\u001b[0m\u001b[1;33m\u001b[0m\u001b[0m\n",
      "\u001b[1;32m/home/spenser/src/gradual-typing-timings/lnm.pyc\u001b[0m in \u001b[0;36madjacent_variations\u001b[1;34m(variation)\u001b[0m\n\u001b[0;32m     19\u001b[0m     \"\"\" Given a variation represented as a bit string, return all variations\n\u001b[0;32m     20\u001b[0m         one step above in the lattice \"\"\"\n\u001b[1;32m---> 21\u001b[1;33m     \u001b[0mvar\u001b[0m \u001b[1;33m=\u001b[0m \u001b[0mnp\u001b[0m\u001b[1;33m.\u001b[0m\u001b[0marray\u001b[0m\u001b[1;33m(\u001b[0m\u001b[0mlist\u001b[0m\u001b[1;33m(\u001b[0m\u001b[0mvariation\u001b[0m\u001b[1;33m)\u001b[0m\u001b[1;33m,\u001b[0m \u001b[0mdtype\u001b[0m\u001b[1;33m=\u001b[0m\u001b[1;34m'b'\u001b[0m\u001b[1;33m)\u001b[0m\u001b[1;33m\u001b[0m\u001b[0m\n\u001b[0m\u001b[0;32m     22\u001b[0m     \u001b[0mI\u001b[0m \u001b[1;33m=\u001b[0m \u001b[0mnp\u001b[0m\u001b[1;33m.\u001b[0m\u001b[0midentity\u001b[0m\u001b[1;33m(\u001b[0m\u001b[0mlen\u001b[0m\u001b[1;33m(\u001b[0m\u001b[0mvar\u001b[0m\u001b[1;33m)\u001b[0m\u001b[1;33m,\u001b[0m \u001b[0mdtype\u001b[0m\u001b[1;33m=\u001b[0m\u001b[1;34m'b'\u001b[0m\u001b[1;33m)\u001b[0m\u001b[1;33m\u001b[0m\u001b[0m\n\u001b[0;32m     23\u001b[0m     \u001b[0mswaps\u001b[0m \u001b[1;33m=\u001b[0m \u001b[0mI\u001b[0m\u001b[1;33m[\u001b[0m\u001b[0mvar\u001b[0m \u001b[1;33m==\u001b[0m \u001b[1;36m0\u001b[0m\u001b[1;33m,\u001b[0m\u001b[1;33m:\u001b[0m\u001b[1;33m]\u001b[0m\u001b[1;33m\u001b[0m\u001b[0m\n",
      "\u001b[1;31mValueError\u001b[0m: invalid literal for long() with base 10: 't'"
     ]
    }
   ],
   "source": [
    "graph = lnm.read_data(s.value)\n",
    "variations, data = graph.ungraph()\n",
    "hidden_untyped = data[0,2]\n",
    "pycket_untyped = data[0,1]\n",
    "racket_untyped = data[0,0]\n",
    "hidden = data[:,2]\n",
    "pycket = data[:,1]\n",
    "racket = data[:,0]"
   ]
  },
  {
   "cell_type": "code",
   "execution_count": null,
   "metadata": {
    "collapsed": false
   },
   "outputs": [],
   "source": [
    "# Runtime of Pycket as a function of Racket\n",
    "ordered_data = np.copy(data)\n",
    "ordered_data.sort(axis=0)\n",
    "ohidden = ordered_data[:,2]\n",
    "opycket = ordered_data[:,1]\n",
    "oracket = ordered_data[:,0]\n",
    "pylab.plot(oracket, ohidden, 'r', label='hidden')\n",
    "pylab.plot(oracket, opycket, 'g', label='pycket')\n",
    "pylab.plot(oracket, oracket, 'b', label='racket')\n",
    "pylab.title('runtime as a function of Racket runtime')\n",
    "pylab.xlabel('Racket runtime (ms)')\n",
    "pylab.ylabel('system runtime (ms)')\n",
    "pylab.legend(loc='best')"
   ]
  },
  {
   "cell_type": "code",
   "execution_count": null,
   "metadata": {
    "collapsed": false
   },
   "outputs": [],
   "source": [
    "from scipy.stats import cumfreq\n",
    "from pandas      import DataFrame\n",
    "from ipy_table   import *\n",
    "\n",
    "hidden_slowdown = hidden / float(hidden_untyped)\n",
    "pycket_slowdown = pycket / float(pycket_untyped)\n",
    "racket_slowdown = racket / float(racket_untyped)\n",
    "\n",
    "def make_slowdown_data(fname):\n",
    "    data = np.genfromtxt(fname, usecols=(1,2,3))\n",
    "    hidden_untyped = float(data[0,2])\n",
    "    pycket_untyped = float(data[0,1])\n",
    "    racket_untyped = float(data[0,0])\n",
    "    hidden = data[:,2]\n",
    "    pycket = data[:,1]\n",
    "    racket = data[:,0]\n",
    "    weights = np.ones(len(hidden)) / float(len(hidden))\n",
    "    return racket / racket_untyped, pycket / pycket_untyped, hidden / hidden_untyped, weights\n",
    "\n",
    "def compute_deliverable(data):\n",
    "    th = sum(data < 3)\n",
    "    oh = sum(numpy.logical_and(data >= 3, data < 10))\n",
    "    return [max(data), numpy.mean(data), np.median(data), \"%d (%0.2f%%)\" % (th, th / float(len(data)) * 100), \"%d (%0.2f%%)\" % (oh, oh / float(len(data)) * 100)]\n",
    "\n",
    "def make_deliverable_table(**kwargs):\n",
    "    lst = [[\"\", \"Max overhead\", \"Mean overhead\", \"Median overhead\", \"300-deliverable\", \"300/1000-usable\"]]\n",
    "    for name, data in kwargs.iteritems():\n",
    "        lst.append([name] + compute_deliverable(data))\n",
    "    tbl = make_table(map(list, zip(*lst)))\n",
    "    apply_theme('basic_both')\n",
    "    return tbl\n",
    "\n",
    "def slowdown_cdf(*args, **kwargs):\n",
    "    weights = kwargs.get('weights', None)\n",
    "    many_weights = kwargs.get('many_weights', None)\n",
    "    entries = 0   \n",
    "\n",
    "    for i, (data, color, label) in enumerate(args):\n",
    "        if weights is not None:\n",
    "            counts, bin_edges = numpy.histogram(data, weights=weights, bins=len(data))\n",
    "            entries = np.sum(weights)\n",
    "        elif many_weights is not None:\n",
    "            counts, bin_edges = numpy.histogram(data, weights=many_weights[i], bins=len(data))\n",
    "            entries = np.sum(many_weights[i])\n",
    "        else:\n",
    "            counts, bin_edges = numpy.histogram(data, bins=len(data))\n",
    "            entries = len(data)\n",
    "        cdf = numpy.cumsum(counts)\n",
    "        if not color:\n",
    "            pylab.plot(bin_edges[:-1], cdf, label=label)\n",
    "        else:\n",
    "            pylab.plot(bin_edges[:-1], cdf, color=color, label=label)\n",
    "    fname = \"slowdown_{name}.pdf\".format(**kwargs)\n",
    "    pylab.axvline(3, color='y')\n",
    "    pylab.axvline(10, color='k')\n",
    "    pylab.axhline(len(data) * 0.6, color='c', ls='--')\n",
    "    pylab.xlabel('slowdown factor')\n",
    "    pylab.xlim((1,20))\n",
    "    pylab.ylim((0,entries))\n",
    "    pylab.ylabel('number below')\n",
    "    pylab.legend(loc='center left', bbox_to_anchor=(1.0, 0.5))\n",
    "    pylab.savefig(fname)\n",
    "    \n",
    "def compute_lnm_deliverable(slowdown_graph, L):\n",
    "    graph = lnm.compute_lnm_times(slowdown_graph, L)\n",
    "    data = graph.ungraph()[1]\n",
    "    rs = data[:,0]\n",
    "    ps = data[:,1]\n",
    "    hs = data[:,2]\n",
    "    return rs, ps, hs, make_deliverable_table(racket=rs, pycket=ps,hidden=hs)\n",
    "    \n",
    "rs_, ps_, hs_, weights_ = zip(*[make_slowdown_data(fname) for fname in all_data_files])\n",
    "rs = reduce(np.append, rs_)\n",
    "ps = reduce(np.append, ps_)\n",
    "hs = reduce(np.append, hs_)\n",
    "weights = reduce(np.append, weights_)\n",
    "print weights.shape, rs.shape, ps.shape, hs.shape"
   ]
  },
  {
   "cell_type": "markdown",
   "metadata": {},
   "source": [
    "# All Data"
   ]
  },
  {
   "cell_type": "markdown",
   "metadata": {},
   "source": [
    "## All Benchmarks for Hidden"
   ]
  },
  {
   "cell_type": "code",
   "execution_count": null,
   "metadata": {
    "collapsed": false
   },
   "outputs": [],
   "source": [
    "slowdown_cdf(*[(arr, None, strip_name(name)) for arr, name in zip(hs_, all_data_files)],\n",
    "            name=\"name\",\n",
    "            many_weights=weights_)"
   ]
  },
  {
   "cell_type": "markdown",
   "metadata": {},
   "source": [
    "## All Benchmarks for Pycket"
   ]
  },
  {
   "cell_type": "code",
   "execution_count": null,
   "metadata": {
    "collapsed": false
   },
   "outputs": [],
   "source": [
    "slowdown_cdf(*[(arr, None, strip_name(name)) for arr, name in zip(ps_, all_data_files)],\n",
    "            name=\"name\",\n",
    "            many_weights=weights_)"
   ]
  },
  {
   "cell_type": "markdown",
   "metadata": {},
   "source": [
    "## All Benchmarks for Racket"
   ]
  },
  {
   "cell_type": "code",
   "execution_count": null,
   "metadata": {
    "collapsed": false
   },
   "outputs": [],
   "source": [
    "slowdown_cdf(*[(arr, None, strip_name(name)) for arr, name in zip(rs_, all_data_files)],\n",
    "            name=\"name\",\n",
    "            many_weights=weights_)"
   ]
  },
  {
   "cell_type": "code",
   "execution_count": null,
   "metadata": {
    "collapsed": false,
    "scrolled": false
   },
   "outputs": [],
   "source": [
    "print hs.shape, weights.shape\n",
    "slowdown_cdf((rs, 'b', 'racket'),\n",
    "             (ps, 'g', 'pycket'),\n",
    "             (hs, 'r', 'hidden'),\n",
    "             weights=weights,\n",
    "             name=\"all_data\")"
   ]
  },
  {
   "cell_type": "markdown",
   "metadata": {},
   "source": [
    "# Slowdown Summary Stats"
   ]
  },
  {
   "cell_type": "code",
   "execution_count": null,
   "metadata": {
    "collapsed": false
   },
   "outputs": [],
   "source": [
    "DataFrame({'racket':racket, 'pycket':pycket, 'hidden':hidden}).describe()"
   ]
  },
  {
   "cell_type": "markdown",
   "metadata": {},
   "source": [
    "# Deliverability Stats"
   ]
  },
  {
   "cell_type": "markdown",
   "metadata": {},
   "source": [
    "## L = 0"
   ]
  },
  {
   "cell_type": "code",
   "execution_count": null,
   "metadata": {
    "collapsed": false,
    "scrolled": false
   },
   "outputs": [],
   "source": [
    "slowdown_graph = lnm.fromkeyvals(variations, racket_slowdown, pycket_slowdown, hidden_slowdown)\n",
    "racket_slowdown0, pycket_slowdown0, hidden_slowdown0, tbl = compute_lnm_deliverable(slowdown_graph, 0)\n",
    "tbl"
   ]
  },
  {
   "cell_type": "markdown",
   "metadata": {},
   "source": [
    "## L = 1"
   ]
  },
  {
   "cell_type": "code",
   "execution_count": null,
   "metadata": {
    "collapsed": false
   },
   "outputs": [],
   "source": [
    "racket_slowdown1, pycket_slowdown1, hidden_slowdown1, tbl = compute_lnm_deliverable(slowdown_graph, 1)\n",
    "tbl"
   ]
  },
  {
   "cell_type": "markdown",
   "metadata": {},
   "source": [
    "## L = 2"
   ]
  },
  {
   "cell_type": "code",
   "execution_count": null,
   "metadata": {
    "collapsed": false
   },
   "outputs": [],
   "source": [
    "racket_slowdown2, pycket_slowdown2, hidden_slowdown2, tbl = compute_lnm_deliverable(slowdown_graph, 2)\n",
    "tbl"
   ]
  },
  {
   "cell_type": "markdown",
   "metadata": {},
   "source": [
    "# Slowdown distribution"
   ]
  },
  {
   "cell_type": "markdown",
   "metadata": {},
   "source": [
    "## L = 0"
   ]
  },
  {
   "cell_type": "code",
   "execution_count": null,
   "metadata": {
    "collapsed": false,
    "scrolled": false
   },
   "outputs": [],
   "source": [
    "slowdown_cdf((racket_slowdown0, 'b', 'racket'),\n",
    "             (pycket_slowdown0, 'g', 'pycket'),\n",
    "             (hidden_slowdown0, 'r', 'hidden'),\n",
    "             name=\"%s_l=0\" % benchmark)"
   ]
  },
  {
   "cell_type": "markdown",
   "metadata": {
    "collapsed": true
   },
   "source": [
    "## L = 1"
   ]
  },
  {
   "cell_type": "code",
   "execution_count": null,
   "metadata": {
    "collapsed": false
   },
   "outputs": [],
   "source": [
    "slowdown_cdf((racket_slowdown1, 'b', 'racket'),\n",
    "             (pycket_slowdown1, 'g', 'pycket'),\n",
    "             (hidden_slowdown1, 'r', 'hidden'),\n",
    "             name=\"%s_l=1\" % benchmark)"
   ]
  },
  {
   "cell_type": "markdown",
   "metadata": {},
   "source": [
    "## L = 2"
   ]
  },
  {
   "cell_type": "code",
   "execution_count": null,
   "metadata": {
    "collapsed": false
   },
   "outputs": [],
   "source": [
    "slowdown_cdf((racket_slowdown2, 'b', 'racket'),\n",
    "             (pycket_slowdown2, 'g', 'pycket'),\n",
    "             (hidden_slowdown2, 'r', 'hidden'),\n",
    "             name=\"%s_l=2\" % benchmark)"
   ]
  },
  {
   "cell_type": "code",
   "execution_count": null,
   "metadata": {
    "collapsed": false
   },
   "outputs": [],
   "source": []
  },
  {
   "cell_type": "code",
   "execution_count": null,
   "metadata": {
    "collapsed": true
   },
   "outputs": [],
   "source": []
  }
 ],
 "metadata": {
  "kernelspec": {
   "display_name": "Python 2",
   "language": "python",
   "name": "python2"
  },
  "language_info": {
   "codemirror_mode": {
    "name": "ipython",
    "version": 2
   },
   "file_extension": ".py",
   "mimetype": "text/x-python",
   "name": "python",
   "nbconvert_exporter": "python",
   "pygments_lexer": "ipython2",
   "version": "2.7.10"
  }
 },
 "nbformat": 4,
 "nbformat_minor": 0
}
