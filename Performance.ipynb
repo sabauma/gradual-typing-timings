{
 "cells": [
  {
   "cell_type": "code",
   "execution_count": 1,
   "metadata": {
    "collapsed": true,
    "slideshow": {
     "slide_type": "skip"
    }
   },
   "outputs": [],
   "source": [
    "%matplotlib inline"
   ]
  },
  {
   "cell_type": "code",
   "execution_count": 1,
   "metadata": {
    "collapsed": false,
    "slideshow": {
     "slide_type": "skip"
    }
   },
   "outputs": [],
   "source": [
    "from pylab import *\n",
    "import pylab\n",
    "import matplotlib as mpl\n",
    "import numpy\n",
    "import lnm\n",
    "from graph import Graph\n",
    "import ipywidgets as widgets\n",
    "from IPython.display import display, HTML\n",
    "mpl.rcParams['savefig.dpi'] = 150\n",
    "OPTIONS = {'FSM': 'results_fsm.txt',\n",
    "           'KCFA': 'results_kcfa.txt',\n",
    "           'KCFA New': 'result_kcfa_21-11-15.txt',\n",
    "           'Snake': 'results_snake.txt',\n",
    "           'Snake New': 'results_snake_03-11-15.txt',\n",
    "           'Tetris': 'results_tetris.txt',\n",
    "           'Tetris New': 'results_tetris_03-11-15.txt',\n",
    "           'Sieve': 'results_sieve.txt',\n",
    "           'Suffix Tree': 'results_suffixtree.txt',\n",
    "           'Suffix Tree New': 'results_suffixtree_03-11-15.txt',\n",
    "           'Synth':'results_synth.txt',\n",
    "           'Synth New': 'results_synth_03-11-15.txt'}\n",
    "s = widgets.Dropdown(options=OPTIONS)\n",
    "all_data_files = ['results_fsm.txt',\n",
    "                  'results_snake_03-11-15.txt',\n",
    "                  'results_tetris_03-11-15.txt',\n",
    "                  'results_sieve.txt',\n",
    "                  'results_suffixtree_03-11-15.txt',\n",
    "                  'results_synth_03-11-15.txt']"
   ]
  },
  {
   "cell_type": "code",
   "execution_count": 2,
   "metadata": {
    "collapsed": false,
    "slideshow": {
     "slide_type": "-"
    }
   },
   "outputs": [],
   "source": [
    "display(s)"
   ]
  },
  {
   "cell_type": "code",
   "execution_count": 3,
   "metadata": {
    "collapsed": false
   },
   "outputs": [
    {
     "data": {
      "text/html": [
       "<h1>Filename: 'results_snake_03-11-15.txt'</h1>"
      ],
      "text/plain": [
       "<IPython.core.display.HTML object>"
      ]
     },
     "execution_count": 3,
     "metadata": {},
     "output_type": "execute_result"
    }
   ],
   "source": [
    "HTML(\"<h1>Filename: '\" + s.value + \"'</h1>\")"
   ]
  },
  {
   "cell_type": "markdown",
   "metadata": {},
   "source": [
    "# Select Benchmark:"
   ]
  },
  {
   "cell_type": "code",
   "execution_count": 4,
   "metadata": {
    "collapsed": false
   },
   "outputs": [],
   "source": [
    "graph = lnm.read_data(s.value)\n",
    "variations, data = graph.ungraph()\n",
    "hidden_untyped = data[0,2]\n",
    "pycket_untyped = data[0,1]\n",
    "racket_untyped = data[0,0]\n",
    "hidden = data[:,2]\n",
    "pycket = data[:,1]\n",
    "racket = data[:,0]"
   ]
  },
  {
   "cell_type": "code",
   "execution_count": 5,
   "metadata": {
    "collapsed": false
   },
   "outputs": [
    {
     "data": {
      "text/plain": [
       "<matplotlib.legend.Legend at 0x7fda63748590>"
      ]
     },
     "execution_count": 5,
     "metadata": {},
     "output_type": "execute_result"
    }
   ],
   "source": [
    "# Runtime of Pycket as a function of Racket\n",
    "ordered_data = np.copy(data)\n",
    "ordered_data.sort(axis=0)\n",
    "ohidden = ordered_data[:,2]\n",
    "opycket = ordered_data[:,1]\n",
    "oracket = ordered_data[:,0]\n",
    "pylab.plot(oracket, ohidden, 'r', label='hidden')\n",
    "pylab.plot(oracket, opycket, 'g', label='pycket')\n",
    "pylab.plot(oracket, oracket, 'b', label='racket')\n",
    "pylab.title('runtime as a function of Racket runtime')\n",
    "pylab.xlabel('Racket runtime (ms)')\n",
    "pylab.ylabel('system runtime (ms)')\n",
    "pylab.legend(loc='best')"
   ]
  },
  {
   "cell_type": "code",
   "execution_count": 6,
   "metadata": {
    "collapsed": false
   },
   "outputs": [
    {
     "data": {
      "text/plain": [
       "<matplotlib.legend.Legend at 0x7fda637563d0>"
      ]
     },
     "execution_count": 6,
     "metadata": {},
     "output_type": "execute_result"
    }
   ],
   "source": [
    "pylab.plot(opycket, opycket, 'g', label='pycket')\n",
    "pylab.plot(opycket, ohidden, 'r', label='hidden')\n",
    "pylab.title('Runtime w.r.t Pycket')\n",
    "pylab.xlabel('Pycket runtime')\n",
    "pylab.ylabel('system runtime')\n",
    "pylab.legend(loc='best')"
   ]
  },
  {
   "cell_type": "code",
   "execution_count": 7,
   "metadata": {
    "collapsed": false
   },
   "outputs": [],
   "source": [
    "from scipy.stats import cumfreq\n",
    "from pandas      import DataFrame\n",
    "from ipy_table   import *\n",
    "\n",
    "hidden_slowdown = hidden / float(hidden_untyped)\n",
    "pycket_slowdown = pycket / float(pycket_untyped)\n",
    "racket_slowdown = racket / float(racket_untyped)\n",
    "\n",
    "def make_slowdown_data(fname):\n",
    "    data = np.genfromtxt(fname, usecols=(1,2,3))\n",
    "    hidden_untyped = float(data[0,2])\n",
    "    pycket_untyped = float(data[0,1])\n",
    "    racket_untyped = float(data[0,0])\n",
    "    hidden = data[:,2]\n",
    "    pycket = data[:,1]\n",
    "    racket = data[:,0]\n",
    "    weights = np.ones(len(hidden)) / float(len(hidden))\n",
    "    return racket / racket_untyped, pycket / pycket_untyped, hidden / hidden_untyped, weights\n",
    "\n",
    "def compute_deliverable(data):\n",
    "    th = sum(data < 3)\n",
    "    oh = sum(numpy.logical_and(data >= 3, data < 10))\n",
    "    return [max(data), numpy.mean(data), np.median(data), \"%d (%0.2f%%)\" % (th, th / float(len(data)) * 100), \"%d (%0.2f%%)\" % (oh, oh / float(len(data)) * 100)]\n",
    "\n",
    "def make_deliverable_table(**kwargs):\n",
    "    lst = [[\"\", \"Max overhead\", \"Mean overhead\", \"Median overhead\", \"300-deliverable\", \"300/1000-usable\"]]\n",
    "    for name, data in kwargs.iteritems():\n",
    "        lst.append([name] + compute_deliverable(data))\n",
    "    tbl = make_table(map(list, zip(*lst)))\n",
    "    apply_theme('basic_both')\n",
    "    return tbl\n",
    "\n",
    "def slowdown_cdf(*args, **kwargs):\n",
    "    weights = kwargs.get('weights', None)\n",
    "    entries = 0\n",
    "    for data, color, label in args:\n",
    "        if weights is not None:\n",
    "            counts, bin_edges = numpy.histogram(data, weights=weights, bins=len(data))\n",
    "            entries = np.sum(weights)\n",
    "        else:\n",
    "            counts, bin_edges = numpy.histogram(data, bins=len(data))\n",
    "            entries = len(data)\n",
    "        cdf = numpy.cumsum(counts)\n",
    "        pylab.plot(bin_edges[:-1], cdf, color=color, label=label)\n",
    "    pylab.axvline(3, color='y')\n",
    "    pylab.axvline(10, color='k')\n",
    "    pylab.axhline(len(data) * 0.6, color='c', ls='--')\n",
    "    pylab.xlabel('slowdown factor')\n",
    "    pylab.xlim((1,20))\n",
    "    pylab.ylim((0,entries))\n",
    "    pylab.ylabel('number below')\n",
    "    pylab.legend(loc='best')\n",
    "    \n",
    "def compute_lnm_deliverable(slowdown_graph, L):\n",
    "    graph = lnm.compute_lnm_times(slowdown_graph, L)\n",
    "    data = graph.ungraph()[1]\n",
    "    rs = data[:,0]\n",
    "    ps = data[:,1]\n",
    "    hs = data[:,2]\n",
    "    return rs, ps, hs, make_deliverable_table(racket=rs, pycket=ps,hidden=hs)\n",
    "    \n",
    "rs, ps, hs, weights = zip(*[make_slowdown_data(fname) for fname in all_data_files])\n",
    "rs = reduce(np.append, rs)\n",
    "ps = reduce(np.append, ps)\n",
    "hs = reduce(np.append, hs)\n",
    "weights = reduce(np.append, weights)"
   ]
  },
  {
   "cell_type": "markdown",
   "metadata": {},
   "source": [
    "# All Data"
   ]
  },
  {
   "cell_type": "code",
   "execution_count": 8,
   "metadata": {
    "collapsed": false,
    "scrolled": true
   },
   "outputs": [],
   "source": [
    "slowdown_cdf((rs, 'b', 'racket'),\n",
    "             (ps, 'g', 'pycket'),\n",
    "             (hs, 'r', 'hidden'),\n",
    "             weights=weights)"
   ]
  },
  {
   "cell_type": "markdown",
   "metadata": {},
   "source": [
    "# Slowdown Summary Stats"
   ]
  },
  {
   "cell_type": "code",
   "execution_count": 9,
   "metadata": {
    "collapsed": false
   },
   "outputs": [
    {
     "data": {
      "text/html": [
       "<div style=\"max-height:1000px;max-width:1500px;overflow:auto;\">\n",
       "<table border=\"1\" class=\"dataframe\">\n",
       "  <thead>\n",
       "    <tr style=\"text-align: right;\">\n",
       "      <th></th>\n",
       "      <th>hidden</th>\n",
       "      <th>pycket</th>\n",
       "      <th>racket</th>\n",
       "    </tr>\n",
       "  </thead>\n",
       "  <tbody>\n",
       "    <tr>\n",
       "      <th>count</th>\n",
       "      <td>   256.000000</td>\n",
       "      <td>   256.000000</td>\n",
       "      <td>   256.000000</td>\n",
       "    </tr>\n",
       "    <tr>\n",
       "      <th>mean</th>\n",
       "      <td>  3384.863281</td>\n",
       "      <td>  4021.464844</td>\n",
       "      <td> 19213.906250</td>\n",
       "    </tr>\n",
       "    <tr>\n",
       "      <th>std</th>\n",
       "      <td>  2658.981905</td>\n",
       "      <td>  3371.880962</td>\n",
       "      <td> 14551.529287</td>\n",
       "    </tr>\n",
       "    <tr>\n",
       "      <th>min</th>\n",
       "      <td>   577.000000</td>\n",
       "      <td>   579.000000</td>\n",
       "      <td>   432.000000</td>\n",
       "    </tr>\n",
       "    <tr>\n",
       "      <th>25%</th>\n",
       "      <td>  1232.750000</td>\n",
       "      <td>  1340.500000</td>\n",
       "      <td>  8126.000000</td>\n",
       "    </tr>\n",
       "    <tr>\n",
       "      <th>50%</th>\n",
       "      <td>  2173.500000</td>\n",
       "      <td>  2231.500000</td>\n",
       "      <td> 12170.000000</td>\n",
       "    </tr>\n",
       "    <tr>\n",
       "      <th>75%</th>\n",
       "      <td>  5352.250000</td>\n",
       "      <td>  6403.000000</td>\n",
       "      <td> 31733.000000</td>\n",
       "    </tr>\n",
       "    <tr>\n",
       "      <th>max</th>\n",
       "      <td> 11314.000000</td>\n",
       "      <td> 13760.000000</td>\n",
       "      <td> 57516.000000</td>\n",
       "    </tr>\n",
       "  </tbody>\n",
       "</table>\n",
       "</div>"
      ],
      "text/plain": [
       "             hidden        pycket        racket\n",
       "count    256.000000    256.000000    256.000000\n",
       "mean    3384.863281   4021.464844  19213.906250\n",
       "std     2658.981905   3371.880962  14551.529287\n",
       "min      577.000000    579.000000    432.000000\n",
       "25%     1232.750000   1340.500000   8126.000000\n",
       "50%     2173.500000   2231.500000  12170.000000\n",
       "75%     5352.250000   6403.000000  31733.000000\n",
       "max    11314.000000  13760.000000  57516.000000"
      ]
     },
     "execution_count": 9,
     "metadata": {},
     "output_type": "execute_result"
    }
   ],
   "source": [
    "DataFrame({'racket':racket, 'pycket':pycket, 'hidden':hidden}).describe()"
   ]
  },
  {
   "cell_type": "markdown",
   "metadata": {},
   "source": [
    "# Deliverability Stats"
   ]
  },
  {
   "cell_type": "markdown",
   "metadata": {},
   "source": [
    "## L = 0"
   ]
  },
  {
   "cell_type": "code",
   "execution_count": 10,
   "metadata": {
    "collapsed": false,
    "scrolled": false
   },
   "outputs": [
    {
     "data": {
      "text/html": [
       "<table border=\"1\" cellpadding=\"3\" cellspacing=\"0\"  style=\"border:1px solid black;border-collapse:collapse;\"><tr><td  style=\"background-color:White;border-left: 1px solid transparent;border-top: 1px solid transparent;\"><b></b></td><td  style=\"background-color:LightGray;\"><b>racket</b></td><td  style=\"background-color:LightGray;\"><b>hidden</b></td><td  style=\"background-color:LightGray;\"><b>pycket</b></td></tr><tr><td  style=\"background-color:LightGray;\"><b>Max&nbspoverhead</b></td><td  style=\"background-color:Ivory;\">101.2606</td><td  style=\"background-color:Ivory;\">18.6700</td><td  style=\"background-color:Ivory;\">22.2654</td></tr><tr><td  style=\"background-color:LightGray;\"><b>Mean&nbspoverhead</b></td><td  style=\"background-color:AliceBlue;\">33.8273</td><td  style=\"background-color:AliceBlue;\">5.5856</td><td  style=\"background-color:AliceBlue;\">6.5072</td></tr><tr><td  style=\"background-color:LightGray;\"><b>Median&nbspoverhead</b></td><td  style=\"background-color:Ivory;\">21.4261</td><td  style=\"background-color:Ivory;\">3.5866</td><td  style=\"background-color:Ivory;\">3.6108</td></tr><tr><td  style=\"background-color:LightGray;\"><b>300-deliverable</b></td><td  style=\"background-color:AliceBlue;\">7&nbsp(2.73%)</td><td  style=\"background-color:AliceBlue;\">104&nbsp(40.62%)</td><td  style=\"background-color:AliceBlue;\">101&nbsp(39.45%)</td></tr><tr><td  style=\"background-color:LightGray;\"><b>300/1000-usable</b></td><td  style=\"background-color:Ivory;\">29&nbsp(11.33%)</td><td  style=\"background-color:Ivory;\">105&nbsp(41.02%)</td><td  style=\"background-color:Ivory;\">86&nbsp(33.59%)</td></tr></table>"
      ],
      "text/plain": [
       "<ipy_table.IpyTable at 0x7fda54c785d0>"
      ]
     },
     "execution_count": 10,
     "metadata": {},
     "output_type": "execute_result"
    }
   ],
   "source": [
    "slowdown_graph = lnm.fromkeyvals(variations, racket_slowdown, pycket_slowdown, hidden_slowdown)\n",
    "racket_slowdown0, pycket_slowdown0, hidden_slowdown0, tbl = compute_lnm_deliverable(slowdown_graph, 0)\n",
    "tbl"
   ]
  },
  {
   "cell_type": "markdown",
   "metadata": {},
   "source": [
    "## L = 1"
   ]
  },
  {
   "cell_type": "code",
   "execution_count": 11,
   "metadata": {
    "collapsed": false
   },
   "outputs": [
    {
     "data": {
      "text/html": [
       "<table border=\"1\" cellpadding=\"3\" cellspacing=\"0\"  style=\"border:1px solid black;border-collapse:collapse;\"><tr><td  style=\"background-color:White;border-left: 1px solid transparent;border-top: 1px solid transparent;\"><b></b></td><td  style=\"background-color:LightGray;\"><b>racket</b></td><td  style=\"background-color:LightGray;\"><b>hidden</b></td><td  style=\"background-color:LightGray;\"><b>pycket</b></td></tr><tr><td  style=\"background-color:LightGray;\"><b>Max&nbspoverhead</b></td><td  style=\"background-color:Ivory;\">23.1549</td><td  style=\"background-color:Ivory;\">4.2096</td><td  style=\"background-color:Ivory;\">4.1602</td></tr><tr><td  style=\"background-color:LightGray;\"><b>Mean&nbspoverhead</b></td><td  style=\"background-color:AliceBlue;\">10.6280</td><td  style=\"background-color:AliceBlue;\">1.8020</td><td  style=\"background-color:AliceBlue;\">1.8720</td></tr><tr><td  style=\"background-color:LightGray;\"><b>Median&nbspoverhead</b></td><td  style=\"background-color:Ivory;\">10.0739</td><td  style=\"background-color:Ivory;\">1.5998</td><td  style=\"background-color:Ivory;\">1.6748</td></tr><tr><td  style=\"background-color:LightGray;\"><b>300-deliverable</b></td><td  style=\"background-color:AliceBlue;\">35&nbsp(13.67%)</td><td  style=\"background-color:AliceBlue;\">229&nbsp(89.45%)</td><td  style=\"background-color:AliceBlue;\">227&nbsp(88.67%)</td></tr><tr><td  style=\"background-color:LightGray;\"><b>300/1000-usable</b></td><td  style=\"background-color:Ivory;\">91&nbsp(35.55%)</td><td  style=\"background-color:Ivory;\">27&nbsp(10.55%)</td><td  style=\"background-color:Ivory;\">29&nbsp(11.33%)</td></tr></table>"
      ],
      "text/plain": [
       "<ipy_table.IpyTable at 0x7fda54c8e890>"
      ]
     },
     "execution_count": 11,
     "metadata": {},
     "output_type": "execute_result"
    }
   ],
   "source": [
    "racket_slowdown1, pycket_slowdown1, hidden_slowdown1, tbl = compute_lnm_deliverable(slowdown_graph, 1)\n",
    "tbl"
   ]
  },
  {
   "cell_type": "markdown",
   "metadata": {},
   "source": [
    "## L = 2"
   ]
  },
  {
   "cell_type": "code",
   "execution_count": 12,
   "metadata": {
    "collapsed": false
   },
   "outputs": [
    {
     "data": {
      "text/html": [
       "<table border=\"1\" cellpadding=\"3\" cellspacing=\"0\"  style=\"border:1px solid black;border-collapse:collapse;\"><tr><td  style=\"background-color:White;border-left: 1px solid transparent;border-top: 1px solid transparent;\"><b></b></td><td  style=\"background-color:LightGray;\"><b>racket</b></td><td  style=\"background-color:LightGray;\"><b>hidden</b></td><td  style=\"background-color:LightGray;\"><b>pycket</b></td></tr><tr><td  style=\"background-color:LightGray;\"><b>Max&nbspoverhead</b></td><td  style=\"background-color:Ivory;\">17.5000</td><td  style=\"background-color:Ivory;\">2.6766</td><td  style=\"background-color:Ivory;\">2.8673</td></tr><tr><td  style=\"background-color:LightGray;\"><b>Mean&nbspoverhead</b></td><td  style=\"background-color:AliceBlue;\">5.4733</td><td  style=\"background-color:AliceBlue;\">1.2558</td><td  style=\"background-color:AliceBlue;\">1.2834</td></tr><tr><td  style=\"background-color:LightGray;\"><b>Median&nbspoverhead</b></td><td  style=\"background-color:Ivory;\">4.1479</td><td  style=\"background-color:Ivory;\">1.1353</td><td  style=\"background-color:Ivory;\">1.1521</td></tr><tr><td  style=\"background-color:LightGray;\"><b>300-deliverable</b></td><td  style=\"background-color:AliceBlue;\">100&nbsp(39.06%)</td><td  style=\"background-color:AliceBlue;\">256&nbsp(100.00%)</td><td  style=\"background-color:AliceBlue;\">256&nbsp(100.00%)</td></tr><tr><td  style=\"background-color:LightGray;\"><b>300/1000-usable</b></td><td  style=\"background-color:Ivory;\">120&nbsp(46.88%)</td><td  style=\"background-color:Ivory;\">0&nbsp(0.00%)</td><td  style=\"background-color:Ivory;\">0&nbsp(0.00%)</td></tr></table>"
      ],
      "text/plain": [
       "<ipy_table.IpyTable at 0x7fda54c8e210>"
      ]
     },
     "execution_count": 12,
     "metadata": {},
     "output_type": "execute_result"
    }
   ],
   "source": [
    "racket_slowdown2, pycket_slowdown2, hidden_slowdown2, tbl = compute_lnm_deliverable(slowdown_graph, 2)\n",
    "tbl"
   ]
  },
  {
   "cell_type": "markdown",
   "metadata": {},
   "source": [
    "# Slowdown distribution"
   ]
  },
  {
   "cell_type": "markdown",
   "metadata": {},
   "source": [
    "## L = 0"
   ]
  },
  {
   "cell_type": "code",
   "execution_count": 13,
   "metadata": {
    "collapsed": false,
    "scrolled": false
   },
   "outputs": [],
   "source": [
    "slowdown_cdf((racket_slowdown0, 'b', 'racket'),\n",
    "             (pycket_slowdown0, 'g', 'pycket'),\n",
    "             (hidden_slowdown0, 'r', 'hidden'))"
   ]
  },
  {
   "cell_type": "markdown",
   "metadata": {
    "collapsed": true
   },
   "source": [
    "## L = 1"
   ]
  },
  {
   "cell_type": "code",
   "execution_count": 14,
   "metadata": {
    "collapsed": false
   },
   "outputs": [],
   "source": [
    "slowdown_cdf((racket_slowdown1, 'b', 'racket'),\n",
    "             (pycket_slowdown1, 'g', 'pycket'),\n",
    "             (hidden_slowdown1, 'r', 'hidden'))"
   ]
  },
  {
   "cell_type": "markdown",
   "metadata": {},
   "source": [
    "## L = 2"
   ]
  },
  {
   "cell_type": "code",
   "execution_count": 15,
   "metadata": {
    "collapsed": false
   },
   "outputs": [],
   "source": [
    "slowdown_cdf((racket_slowdown2, 'b', 'racket'),\n",
    "             (pycket_slowdown2, 'g', 'pycket'),\n",
    "             (hidden_slowdown2, 'r', 'hidden'))"
   ]
  },
  {
   "cell_type": "code",
   "execution_count": null,
   "metadata": {
    "collapsed": false
   },
   "outputs": [],
   "source": []
  },
  {
   "cell_type": "code",
   "execution_count": null,
   "metadata": {
    "collapsed": true
   },
   "outputs": [],
   "source": []
  }
 ],
 "metadata": {
  "kernelspec": {
   "display_name": "Python 2",
   "language": "python",
   "name": "python2"
  },
  "language_info": {
   "codemirror_mode": {
    "name": "ipython",
    "version": 2
   },
   "file_extension": ".py",
   "mimetype": "text/x-python",
   "name": "python",
   "nbconvert_exporter": "python",
   "pygments_lexer": "ipython2",
   "version": "2.7.10"
  }
 },
 "nbformat": 4,
 "nbformat_minor": 0
}
