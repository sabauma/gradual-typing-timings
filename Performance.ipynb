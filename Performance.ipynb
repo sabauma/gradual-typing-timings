{
 "cells": [
  {
   "cell_type": "code",
   "execution_count": null,
   "metadata": {
    "collapsed": true,
    "slideshow": {
     "slide_type": "skip"
    }
   },
   "outputs": [],
   "source": [
    "%matplotlib inline"
   ]
  },
  {
   "cell_type": "code",
   "execution_count": null,
   "metadata": {
    "collapsed": false,
    "slideshow": {
     "slide_type": "skip"
    }
   },
   "outputs": [],
   "source": [
    "from pylab import *\n",
    "import pylab\n",
    "import matplotlib as mpl\n",
    "import numpy as np\n",
    "import lnm\n",
    "from graph import Graph\n",
    "import ipywidgets as widgets\n",
    "from IPython.display import display, HTML\n",
    "mpl.rcParams['savefig.dpi'] = 150\n",
    "OPTIONS = {'FSM (HEAD)': 'results_fsm_head.txt',\n",
    "           'KCFA (6.2.1)': 'results_kcfa_6_2_1.txt',\n",
    "           'KCFA (HEAD)': 'results_kcfa_head.txt',\n",
    "           'Morse Code (HEAD)': 'results_morse-code_head.txt',\n",
    "           'Snake (HEAD)': 'results_snake_head.txt',\n",
    "           'Snake (6.2.1)': 'results_snake_6_2_1.txt',\n",
    "           'Tetris (6.2.1)': 'results_tetris_6_2_1.txt',\n",
    "           'Tetris (HEAD)': 'results_tetris_head.txt',\n",
    "           'Tetris (HEAD+UNROLL)': 'results_tetris_head_unroll.txt',\n",
    "           'Sieve (6.2.1)': 'results_sieve_6_2_1.txt',\n",
    "           'Sieve (HEAD)': 'results_sieve_head.txt',\n",
    "           'Suffix Tree (6.2.1)': 'results_suffixtree_6_2_1.txt',\n",
    "           'Suffix Tree (HEAD)': 'results_suffixtree_head.txt',\n",
    "           'Synth (HEAD)':'results_synth_head.txt',\n",
    "           'Synth (6.2.1)': 'results_synth_6_2_1.txt'}\n",
    "s = widgets.Dropdown(options=OPTIONS)\n",
    "all_data_files = ['results_fsm_head.txt',\n",
    "                  'results_morse-code_head.txt',\n",
    "                  'results_snake_head.txt',\n",
    "                  'results_tetris_head_unroll.txt',\n",
    "                  'results_sieve_head.txt',\n",
    "                  'results_kcfa_head.txt',\n",
    "                  'results_suffixtree_head.txt',\n",
    "                  'results_synth_head.txt']\n",
    "def strip_name(name):\n",
    "    return name.rpartition(\"_\")[0].partition(\"_\")[2]"
   ]
  },
  {
   "cell_type": "code",
   "execution_count": null,
   "metadata": {
    "collapsed": false,
    "slideshow": {
     "slide_type": "-"
    }
   },
   "outputs": [],
   "source": [
    "display(s)"
   ]
  },
  {
   "cell_type": "code",
   "execution_count": null,
   "metadata": {
    "collapsed": false
   },
   "outputs": [],
   "source": [
    "benchmark = strip_name(s.value)\n",
    "HTML(\"<h1>Benchmark: '\" + benchmark + \"'</h1>\")"
   ]
  },
  {
   "cell_type": "markdown",
   "metadata": {},
   "source": [
    "# Select Benchmark:"
   ]
  },
  {
   "cell_type": "code",
   "execution_count": null,
   "metadata": {
    "collapsed": false
   },
   "outputs": [],
   "source": [
    "graph = lnm.read_data(s.value)\n",
    "variations, data = graph.ungraph()\n",
    "hidden_untyped = data[0,2]\n",
    "pycket_untyped = data[0,1]\n",
    "racket_untyped = data[0,0]\n",
    "hidden = data[:,2]\n",
    "pycket = data[:,1]\n",
    "racket = data[:,0]"
   ]
  },
  {
   "cell_type": "code",
   "execution_count": null,
   "metadata": {
    "collapsed": false
   },
   "outputs": [],
   "source": [
    "# Runtime of Pycket as a function of Racket\n",
    "ordered_data = np.copy(data)\n",
    "ordered_data.sort(axis=0)\n",
    "ohidden = ordered_data[:,2]\n",
    "opycket = ordered_data[:,1]\n",
    "oracket = ordered_data[:,0]\n",
    "pylab.plot(oracket, ohidden, 'r', label='hidden')\n",
    "pylab.plot(oracket, opycket, 'g', label='pycket')\n",
    "pylab.plot(oracket, oracket, 'b', label='racket')\n",
    "pylab.title('runtime as a function of Racket runtime')\n",
    "pylab.xlabel('Racket runtime (ms)')\n",
    "pylab.ylabel('system runtime (ms)')\n",
    "pylab.legend(loc='best')"
   ]
  },
  {
   "cell_type": "code",
   "execution_count": null,
   "metadata": {
    "collapsed": false
   },
   "outputs": [],
   "source": [
    "from stats import *\n",
    "    \n",
    "rs_, ps_, hs_, weights_ = zip(*[make_slowdown_data(fname) for fname in all_data_files])\n",
    "rs = reduce(np.append, rs_)\n",
    "ps = reduce(np.append, ps_)\n",
    "hs = reduce(np.append, hs_)\n",
    "weights = reduce(np.append, weights_)\n",
    "print weights.shape, rs.shape, ps.shape, hs.shape"
   ]
  },
  {
   "cell_type": "markdown",
   "metadata": {},
   "source": [
    "# All Data"
   ]
  },
  {
   "cell_type": "markdown",
   "metadata": {},
   "source": [
    "## All Benchmarks for Hidden"
   ]
  },
  {
   "cell_type": "code",
   "execution_count": null,
   "metadata": {
    "collapsed": false
   },
   "outputs": [],
   "source": [
    "slowdown_cdf(*[(arr, None, strip_name(name)) for arr, name in zip(hs_, all_data_files)],\n",
    "            name=\"name\",\n",
    "            many_weights=weights_)"
   ]
  },
  {
   "cell_type": "markdown",
   "metadata": {},
   "source": [
    "## All Benchmarks for Pycket"
   ]
  },
  {
   "cell_type": "code",
   "execution_count": null,
   "metadata": {
    "collapsed": false
   },
   "outputs": [],
   "source": [
    "slowdown_cdf(*[(arr, None, strip_name(name)) for arr, name in zip(ps_, all_data_files)],\n",
    "            name=\"name\",\n",
    "            many_weights=weights_)"
   ]
  },
  {
   "cell_type": "markdown",
   "metadata": {},
   "source": [
    "## All Benchmarks for Racket"
   ]
  },
  {
   "cell_type": "code",
   "execution_count": null,
   "metadata": {
    "collapsed": false
   },
   "outputs": [],
   "source": [
    "slowdown_cdf(*[(arr, None, strip_name(name)) for arr, name in zip(rs_, all_data_files)],\n",
    "            name=\"name\",\n",
    "            many_weights=weights_)"
   ]
  },
  {
   "cell_type": "code",
   "execution_count": null,
   "metadata": {
    "collapsed": false,
    "scrolled": false
   },
   "outputs": [],
   "source": [
    "print hs.shape, weights.shape\n",
    "slowdown_cdf((rs, 'b', 'racket'),\n",
    "             (ps, 'g', 'pycket'),\n",
    "             (hs, 'r', 'hidden'),\n",
    "             weights=weights,\n",
    "             name=\"all_data\")"
   ]
  },
  {
   "cell_type": "markdown",
   "metadata": {},
   "source": [
    "# Slowdown Summary Stats"
   ]
  },
  {
   "cell_type": "code",
   "execution_count": null,
   "metadata": {
    "collapsed": false
   },
   "outputs": [],
   "source": [
    "DataFrame({'racket':racket, 'pycket':pycket, 'hidden':hidden}).describe()"
   ]
  },
  {
   "cell_type": "markdown",
   "metadata": {},
   "source": [
    "# Deliverability Stats"
   ]
  },
  {
   "cell_type": "markdown",
   "metadata": {},
   "source": [
    "## L = 0"
   ]
  },
  {
   "cell_type": "code",
   "execution_count": null,
   "metadata": {
    "collapsed": false,
    "scrolled": false
   },
   "outputs": [],
   "source": [
    "slowdown_graph = lnm.fromkeyvals(variations, racket_slowdown, pycket_slowdown, hidden_slowdown)\n",
    "racket_slowdown0, pycket_slowdown0, hidden_slowdown0, tbl = compute_lnm_deliverable(slowdown_graph, 0)\n",
    "tbl"
   ]
  },
  {
   "cell_type": "markdown",
   "metadata": {},
   "source": [
    "## L = 1"
   ]
  },
  {
   "cell_type": "code",
   "execution_count": null,
   "metadata": {
    "collapsed": false
   },
   "outputs": [],
   "source": [
    "racket_slowdown1, pycket_slowdown1, hidden_slowdown1, tbl = compute_lnm_deliverable(slowdown_graph, 1)\n",
    "tbl"
   ]
  },
  {
   "cell_type": "markdown",
   "metadata": {},
   "source": [
    "## L = 2"
   ]
  },
  {
   "cell_type": "code",
   "execution_count": null,
   "metadata": {
    "collapsed": false
   },
   "outputs": [],
   "source": [
    "racket_slowdown2, pycket_slowdown2, hidden_slowdown2, tbl = compute_lnm_deliverable(slowdown_graph, 2)\n",
    "tbl"
   ]
  },
  {
   "cell_type": "markdown",
   "metadata": {},
   "source": [
    "# Slowdown distribution"
   ]
  },
  {
   "cell_type": "markdown",
   "metadata": {},
   "source": [
    "## L = 0"
   ]
  },
  {
   "cell_type": "code",
   "execution_count": null,
   "metadata": {
    "collapsed": false,
    "scrolled": false
   },
   "outputs": [],
   "source": [
    "slowdown_cdf((racket_slowdown0, 'b', 'racket'),\n",
    "             (pycket_slowdown0, 'g', 'pycket'),\n",
    "             (hidden_slowdown0, 'r', 'hidden'),\n",
    "             name=\"%s_l=0\" % benchmark)"
   ]
  },
  {
   "cell_type": "markdown",
   "metadata": {
    "collapsed": true
   },
   "source": [
    "## L = 1"
   ]
  },
  {
   "cell_type": "code",
   "execution_count": null,
   "metadata": {
    "collapsed": false
   },
   "outputs": [],
   "source": [
    "slowdown_cdf((racket_slowdown1, 'b', 'racket'),\n",
    "             (pycket_slowdown1, 'g', 'pycket'),\n",
    "             (hidden_slowdown1, 'r', 'hidden'),\n",
    "             name=\"%s_l=1\" % benchmark)"
   ]
  },
  {
   "cell_type": "markdown",
   "metadata": {},
   "source": [
    "## L = 2"
   ]
  },
  {
   "cell_type": "code",
   "execution_count": null,
   "metadata": {
    "collapsed": false
   },
   "outputs": [],
   "source": [
    "slowdown_cdf((racket_slowdown2, 'b', 'racket'),\n",
    "             (pycket_slowdown2, 'g', 'pycket'),\n",
    "             (hidden_slowdown2, 'r', 'hidden'),\n",
    "             name=\"%s_l=2\" % benchmark)"
   ]
  },
  {
   "cell_type": "code",
   "execution_count": null,
   "metadata": {
    "collapsed": false
   },
   "outputs": [],
   "source": []
  },
  {
   "cell_type": "code",
   "execution_count": null,
   "metadata": {
    "collapsed": true
   },
   "outputs": [],
   "source": []
  },
  {
   "cell_type": "code",
   "execution_count": null,
   "metadata": {
    "collapsed": true
   },
   "outputs": [],
   "source": []
  },
  {
   "cell_type": "code",
   "execution_count": null,
   "metadata": {
    "collapsed": true
   },
   "outputs": [],
   "source": []
  },
  {
   "cell_type": "code",
   "execution_count": null,
   "metadata": {
    "collapsed": true
   },
   "outputs": [],
   "source": []
  },
  {
   "cell_type": "code",
   "execution_count": null,
   "metadata": {
    "collapsed": true
   },
   "outputs": [],
   "source": []
  },
  {
   "cell_type": "code",
   "execution_count": null,
   "metadata": {
    "collapsed": true
   },
   "outputs": [],
   "source": []
  }
 ],
 "metadata": {
  "kernelspec": {
   "display_name": "Python 2",
   "language": "python",
   "name": "python2"
  },
  "language_info": {
   "codemirror_mode": {
    "name": "ipython",
    "version": 2
   },
   "file_extension": ".py",
   "mimetype": "text/x-python",
   "name": "python",
   "nbconvert_exporter": "python",
   "pygments_lexer": "ipython2",
   "version": "2.7.10"
  }
 },
 "nbformat": 4,
 "nbformat_minor": 0
}
